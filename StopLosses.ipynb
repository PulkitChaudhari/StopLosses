{
 "cells": [
  {
   "cell_type": "code",
   "execution_count": 13,
   "id": "b73053ac",
   "metadata": {},
   "outputs": [
    {
     "name": "stdout",
     "output_type": "stream",
     "text": [
      "              Open    High     Low   Close    Volume\n",
      "2004-08-19  100.00  104.06   95.96  100.34  22351900\n",
      "2004-08-20  101.01  109.08  100.50  108.31  11428600\n",
      "2004-08-23  110.75  113.48  109.05  109.40   9137200\n",
      "2004-08-24  111.24  111.60  103.57  104.87   7631300\n",
      "2004-08-25  104.96  108.00  103.88  106.00   4598900\n",
      "...            ...     ...     ...     ...       ...\n",
      "2013-02-25  802.30  808.41  790.49  790.77   2303900\n",
      "2013-02-26  795.00  795.95  784.40  790.13   2202500\n",
      "2013-02-27  794.80  804.75  791.11  799.78   2026100\n",
      "2013-02-28  801.10  806.99  801.03  801.20   2265800\n",
      "2013-03-01  797.80  807.14  796.15  806.19   2175400\n",
      "\n",
      "[2148 rows x 5 columns]\n"
     ]
    }
   ],
   "source": [
    "from backtesting import Backtest,Strategy\n",
    "from backtesting.test import GOOG\n",
    "from backtesting.lib import crossover, TrailingStrategy\n",
    "import talib\n",
    "print(GOOG)"
   ]
  },
  {
   "cell_type": "code",
   "execution_count": 27,
   "id": "28a04af4",
   "metadata": {},
   "outputs": [],
   "source": [
    "          \n",
    "class TrailingStrategy(Strategy):\n",
    "    __dollar_amount  = 20.\n",
    "\n",
    "    def init(self):\n",
    "        super().init()\n",
    "\n",
    "    def set_trailing_sl(self, n_atr: float = 6):\n",
    "        self.__dollar_amount = dollar_amount\n",
    "\n",
    "    def next(self):\n",
    "        super().next()\n",
    "        index = len(self.data)-1\n",
    "        for trade in self.trades:\n",
    "            if trade.is_long:\n",
    "                trade.sl = max(trade.sl or -np.inf,\n",
    "                               self.data.Close[index] - self.__dollar_amount)\n",
    "            else:\n",
    "                trade.sl = min(trade.sl or np.inf,\n",
    "                               self.data.Close[index] + self.__dollar_amount)\n",
    "                \n",
    "class Strat(TrailingStrategy):\n",
    "    def init(self):\n",
    "        super().init()\n",
    "        super().set_trailing_sl(3)\n",
    "        pass\n",
    "    def next(self):\n",
    "        super().next()\n",
    "        if self.position:\n",
    "            pass\n",
    "        else:\n",
    "            price = self.data.Close[-1]\n",
    "            self.buy(size = 1, sl = price-10,tp = price + 20)"
   ]
  },
  {
   "cell_type": "code",
   "execution_count": 26,
   "id": "a39b8706",
   "metadata": {},
   "outputs": [
    {
     "ename": "NameError",
     "evalue": "name 'dollar_amount' is not defined",
     "output_type": "error",
     "traceback": [
      "\u001b[1;31m---------------------------------------------------------------------------\u001b[0m",
      "\u001b[1;31mNameError\u001b[0m                                 Traceback (most recent call last)",
      "\u001b[1;32m~\\AppData\\Local\\Temp/ipykernel_6308/1079118140.py\u001b[0m in \u001b[0;36m<module>\u001b[1;34m\u001b[0m\n\u001b[0;32m      1\u001b[0m \u001b[0mbt\u001b[0m \u001b[1;33m=\u001b[0m \u001b[0mBacktest\u001b[0m\u001b[1;33m(\u001b[0m\u001b[0mGOOG\u001b[0m\u001b[1;33m,\u001b[0m\u001b[0mStrat\u001b[0m\u001b[1;33m,\u001b[0m\u001b[0mcash\u001b[0m \u001b[1;33m=\u001b[0m \u001b[1;36m10_000\u001b[0m\u001b[1;33m,\u001b[0m\u001b[0mtrade_on_close\u001b[0m\u001b[1;33m=\u001b[0m\u001b[1;32mTrue\u001b[0m\u001b[1;33m)\u001b[0m\u001b[1;33m\u001b[0m\u001b[1;33m\u001b[0m\u001b[0m\n\u001b[1;32m----> 2\u001b[1;33m \u001b[0mstats\u001b[0m \u001b[1;33m=\u001b[0m \u001b[0mbt\u001b[0m\u001b[1;33m.\u001b[0m\u001b[0mrun\u001b[0m\u001b[1;33m(\u001b[0m\u001b[1;33m)\u001b[0m\u001b[1;33m\u001b[0m\u001b[1;33m\u001b[0m\u001b[0m\n\u001b[0m\u001b[0;32m      3\u001b[0m \u001b[0mprint\u001b[0m\u001b[1;33m(\u001b[0m\u001b[0mstats\u001b[0m\u001b[1;33m)\u001b[0m\u001b[1;33m\u001b[0m\u001b[1;33m\u001b[0m\u001b[0m\n\u001b[0;32m      4\u001b[0m \u001b[0mprint\u001b[0m\u001b[1;33m(\u001b[0m\u001b[0mbt\u001b[0m\u001b[1;33m)\u001b[0m\u001b[1;33m\u001b[0m\u001b[1;33m\u001b[0m\u001b[0m\n\u001b[0;32m      5\u001b[0m \u001b[0mbt\u001b[0m\u001b[1;33m.\u001b[0m\u001b[0mplot\u001b[0m\u001b[1;33m(\u001b[0m\u001b[1;33m)\u001b[0m\u001b[1;33m\u001b[0m\u001b[1;33m\u001b[0m\u001b[0m\n",
      "\u001b[1;32mD:\\Anaconda\\lib\\site-packages\\backtesting\\backtesting.py\u001b[0m in \u001b[0;36mrun\u001b[1;34m(self, **kwargs)\u001b[0m\n\u001b[0;32m   1137\u001b[0m         \u001b[0mstrategy\u001b[0m\u001b[1;33m:\u001b[0m \u001b[0mStrategy\u001b[0m \u001b[1;33m=\u001b[0m \u001b[0mself\u001b[0m\u001b[1;33m.\u001b[0m\u001b[0m_strategy\u001b[0m\u001b[1;33m(\u001b[0m\u001b[0mbroker\u001b[0m\u001b[1;33m,\u001b[0m \u001b[0mdata\u001b[0m\u001b[1;33m,\u001b[0m \u001b[0mkwargs\u001b[0m\u001b[1;33m)\u001b[0m\u001b[1;33m\u001b[0m\u001b[1;33m\u001b[0m\u001b[0m\n\u001b[0;32m   1138\u001b[0m \u001b[1;33m\u001b[0m\u001b[0m\n\u001b[1;32m-> 1139\u001b[1;33m         \u001b[0mstrategy\u001b[0m\u001b[1;33m.\u001b[0m\u001b[0minit\u001b[0m\u001b[1;33m(\u001b[0m\u001b[1;33m)\u001b[0m\u001b[1;33m\u001b[0m\u001b[1;33m\u001b[0m\u001b[0m\n\u001b[0m\u001b[0;32m   1140\u001b[0m         \u001b[0mdata\u001b[0m\u001b[1;33m.\u001b[0m\u001b[0m_update\u001b[0m\u001b[1;33m(\u001b[0m\u001b[1;33m)\u001b[0m  \u001b[1;31m# Strategy.init might have changed/added to data.df\u001b[0m\u001b[1;33m\u001b[0m\u001b[1;33m\u001b[0m\u001b[0m\n\u001b[0;32m   1141\u001b[0m \u001b[1;33m\u001b[0m\u001b[0m\n",
      "\u001b[1;32m~\\AppData\\Local\\Temp/ipykernel_6308/2869324809.py\u001b[0m in \u001b[0;36minit\u001b[1;34m(self)\u001b[0m\n\u001b[0;32m      2\u001b[0m     \u001b[1;32mdef\u001b[0m \u001b[0minit\u001b[0m\u001b[1;33m(\u001b[0m\u001b[0mself\u001b[0m\u001b[1;33m)\u001b[0m\u001b[1;33m:\u001b[0m\u001b[1;33m\u001b[0m\u001b[1;33m\u001b[0m\u001b[0m\n\u001b[0;32m      3\u001b[0m         \u001b[0msuper\u001b[0m\u001b[1;33m(\u001b[0m\u001b[1;33m)\u001b[0m\u001b[1;33m.\u001b[0m\u001b[0minit\u001b[0m\u001b[1;33m(\u001b[0m\u001b[1;33m)\u001b[0m\u001b[1;33m\u001b[0m\u001b[1;33m\u001b[0m\u001b[0m\n\u001b[1;32m----> 4\u001b[1;33m         \u001b[0msuper\u001b[0m\u001b[1;33m(\u001b[0m\u001b[1;33m)\u001b[0m\u001b[1;33m.\u001b[0m\u001b[0mset_trailing_sl\u001b[0m\u001b[1;33m(\u001b[0m\u001b[1;36m3\u001b[0m\u001b[1;33m)\u001b[0m\u001b[1;33m\u001b[0m\u001b[1;33m\u001b[0m\u001b[0m\n\u001b[0m\u001b[0;32m      5\u001b[0m         \u001b[1;32mpass\u001b[0m\u001b[1;33m\u001b[0m\u001b[1;33m\u001b[0m\u001b[0m\n\u001b[0;32m      6\u001b[0m     \u001b[1;32mdef\u001b[0m \u001b[0mnext\u001b[0m\u001b[1;33m(\u001b[0m\u001b[0mself\u001b[0m\u001b[1;33m)\u001b[0m\u001b[1;33m:\u001b[0m\u001b[1;33m\u001b[0m\u001b[1;33m\u001b[0m\u001b[0m\n",
      "\u001b[1;32m~\\AppData\\Local\\Temp/ipykernel_6308/2869324809.py\u001b[0m in \u001b[0;36mset_trailing_sl\u001b[1;34m(self, n_atr)\u001b[0m\n\u001b[0;32m     19\u001b[0m \u001b[1;33m\u001b[0m\u001b[0m\n\u001b[0;32m     20\u001b[0m     \u001b[1;32mdef\u001b[0m \u001b[0mset_trailing_sl\u001b[0m\u001b[1;33m(\u001b[0m\u001b[0mself\u001b[0m\u001b[1;33m,\u001b[0m \u001b[0mn_atr\u001b[0m\u001b[1;33m:\u001b[0m \u001b[0mfloat\u001b[0m \u001b[1;33m=\u001b[0m \u001b[1;36m6\u001b[0m\u001b[1;33m)\u001b[0m\u001b[1;33m:\u001b[0m\u001b[1;33m\u001b[0m\u001b[1;33m\u001b[0m\u001b[0m\n\u001b[1;32m---> 21\u001b[1;33m         \u001b[0mself\u001b[0m\u001b[1;33m.\u001b[0m\u001b[0m__dollar_amount\u001b[0m \u001b[1;33m=\u001b[0m \u001b[0mdollar_amount\u001b[0m\u001b[1;33m\u001b[0m\u001b[1;33m\u001b[0m\u001b[0m\n\u001b[0m\u001b[0;32m     22\u001b[0m \u001b[1;33m\u001b[0m\u001b[0m\n\u001b[0;32m     23\u001b[0m     \u001b[1;32mdef\u001b[0m \u001b[0mnext\u001b[0m\u001b[1;33m(\u001b[0m\u001b[0mself\u001b[0m\u001b[1;33m)\u001b[0m\u001b[1;33m:\u001b[0m\u001b[1;33m\u001b[0m\u001b[1;33m\u001b[0m\u001b[0m\n",
      "\u001b[1;31mNameError\u001b[0m: name 'dollar_amount' is not defined"
     ]
    }
   ],
   "source": [
    "bt = Backtest(GOOG,Strat,cash = 10_000,trade_on_close=True)\n",
    "stats = bt.run()\n",
    "print(stats)\n",
    "print(bt)\n",
    "bt.plot()"
   ]
  }
 ],
 "metadata": {
  "kernelspec": {
   "display_name": "Python 3 (ipykernel)",
   "language": "python",
   "name": "python3"
  },
  "language_info": {
   "codemirror_mode": {
    "name": "ipython",
    "version": 3
   },
   "file_extension": ".py",
   "mimetype": "text/x-python",
   "name": "python",
   "nbconvert_exporter": "python",
   "pygments_lexer": "ipython3",
   "version": "3.9.7"
  }
 },
 "nbformat": 4,
 "nbformat_minor": 5
}
